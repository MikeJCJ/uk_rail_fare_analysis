{
 "cells": [
  {
   "cell_type": "code",
   "execution_count": 1,
   "metadata": {},
   "outputs": [],
   "source": [
    "import sqlite3\n",
    "import pathlib\n",
    "import pandas as pd\n",
    "import networkx as nx\n",
    "import matplotlib.pyplot as plt"
   ]
  },
  {
   "cell_type": "code",
   "execution_count": 2,
   "metadata": {},
   "outputs": [],
   "source": [
    "# Locating files\n",
    "current_file_path = pathlib.Path().resolve()\n",
    "base_folder = current_file_path.parents[0]\n",
    "database_path = base_folder.joinpath('2. Data\\\\Database\\\\nrdp_fare_data.db')"
   ]
  },
  {
   "cell_type": "code",
   "execution_count": 7,
   "metadata": {},
   "outputs": [],
   "source": [
    "# reading database table into a dataframe\n",
    "db_conn = sqlite3.connect(database_path)\n",
    "flow_fare_loc_df = pd.read_sql_query('SELECT * FROM flow_fare_location', db_conn)\n",
    "db_conn.close()"
   ]
  },
  {
   "cell_type": "code",
   "execution_count": 12,
   "metadata": {},
   "outputs": [],
   "source": [
    "flow_fare_loc_df['ORIGIN_COORDS'] = list(zip(flow_fare_loc_df.ORIGIN_LAT,flow_fare_loc_df.ORIGIN_LON))\n",
    "flow_fare_loc_df['DESTINATION_COORDS'] = list(zip(flow_fare_loc_df.DESTINATION_LAT,flow_fare_loc_df.DESTINATION_LON))"
   ]
  },
  {
   "cell_type": "code",
   "execution_count": 19,
   "metadata": {},
   "outputs": [
    {
     "data": {
      "text/html": [
       "<div>\n",
       "<style scoped>\n",
       "    .dataframe tbody tr th:only-of-type {\n",
       "        vertical-align: middle;\n",
       "    }\n",
       "\n",
       "    .dataframe tbody tr th {\n",
       "        vertical-align: top;\n",
       "    }\n",
       "\n",
       "    .dataframe thead th {\n",
       "        text-align: right;\n",
       "    }\n",
       "</style>\n",
       "<table border=\"1\" class=\"dataframe\">\n",
       "  <thead>\n",
       "    <tr style=\"text-align: right;\">\n",
       "      <th></th>\n",
       "      <th>ORIGIN_CODE</th>\n",
       "      <th>DESTINATION_CODE</th>\n",
       "      <th>FARE_POUNDS</th>\n",
       "      <th>ORIGIN_COORDS</th>\n",
       "      <th>DESTINATION_COORDS</th>\n",
       "    </tr>\n",
       "  </thead>\n",
       "  <tbody>\n",
       "    <tr>\n",
       "      <th>0</th>\n",
       "      <td>5932</td>\n",
       "      <td>1360</td>\n",
       "      <td>57.8</td>\n",
       "      <td>(50.907742, -1.413983)</td>\n",
       "      <td>(51.995339, -0.736368)</td>\n",
       "    </tr>\n",
       "    <tr>\n",
       "      <th>1</th>\n",
       "      <td>5932</td>\n",
       "      <td>1373</td>\n",
       "      <td>56.7</td>\n",
       "      <td>(50.907742, -1.413983)</td>\n",
       "      <td>(51.916046, -0.676874)</td>\n",
       "    </tr>\n",
       "    <tr>\n",
       "      <th>2</th>\n",
       "      <td>5932</td>\n",
       "      <td>1378</td>\n",
       "      <td>57.8</td>\n",
       "      <td>(50.907742, -1.413983)</td>\n",
       "      <td>(52.034357, -0.77341)</td>\n",
       "    </tr>\n",
       "    <tr>\n",
       "      <th>3</th>\n",
       "      <td>5932</td>\n",
       "      <td>1390</td>\n",
       "      <td>51.3</td>\n",
       "      <td>(50.907742, -1.413983)</td>\n",
       "      <td>(51.763638, -0.562498)</td>\n",
       "    </tr>\n",
       "    <tr>\n",
       "      <th>4</th>\n",
       "      <td>5932</td>\n",
       "      <td>1391</td>\n",
       "      <td>47.7</td>\n",
       "      <td>(50.907742, -1.413983)</td>\n",
       "      <td>(51.742062, -0.490762)</td>\n",
       "    </tr>\n",
       "    <tr>\n",
       "      <th>...</th>\n",
       "      <td>...</td>\n",
       "      <td>...</td>\n",
       "      <td>...</td>\n",
       "      <td>...</td>\n",
       "      <td>...</td>\n",
       "    </tr>\n",
       "    <tr>\n",
       "      <th>122071</th>\n",
       "      <td>3121</td>\n",
       "      <td>3052</td>\n",
       "      <td>25.5</td>\n",
       "      <td>(51.8042, -1.2745)</td>\n",
       "      <td>(51.578495, -0.497633)</td>\n",
       "    </tr>\n",
       "    <tr>\n",
       "      <th>122072</th>\n",
       "      <td>3121</td>\n",
       "      <td>3057</td>\n",
       "      <td>27.7</td>\n",
       "      <td>(51.8042, -1.2745)</td>\n",
       "      <td>(51.556742, -0.398812)</td>\n",
       "    </tr>\n",
       "    <tr>\n",
       "      <th>122073</th>\n",
       "      <td>3121</td>\n",
       "      <td>3059</td>\n",
       "      <td>27.7</td>\n",
       "      <td>(51.8042, -1.2745)</td>\n",
       "      <td>(51.569708, -0.437812)</td>\n",
       "    </tr>\n",
       "    <tr>\n",
       "      <th>122074</th>\n",
       "      <td>3121</td>\n",
       "      <td>3060</td>\n",
       "      <td>25.7</td>\n",
       "      <td>(51.8042, -1.2745)</td>\n",
       "      <td>(51.580544, -0.517774)</td>\n",
       "    </tr>\n",
       "    <tr>\n",
       "      <th>122075</th>\n",
       "      <td>3121</td>\n",
       "      <td>3061</td>\n",
       "      <td>22.0</td>\n",
       "      <td>(51.8042, -1.2745)</td>\n",
       "      <td>(51.609524, -0.607809)</td>\n",
       "    </tr>\n",
       "  </tbody>\n",
       "</table>\n",
       "<p>122076 rows × 5 columns</p>\n",
       "</div>"
      ],
      "text/plain": [
       "       ORIGIN_CODE DESTINATION_CODE  FARE_POUNDS           ORIGIN_COORDS  \\\n",
       "0             5932             1360         57.8  (50.907742, -1.413983)   \n",
       "1             5932             1373         56.7  (50.907742, -1.413983)   \n",
       "2             5932             1378         57.8  (50.907742, -1.413983)   \n",
       "3             5932             1390         51.3  (50.907742, -1.413983)   \n",
       "4             5932             1391         47.7  (50.907742, -1.413983)   \n",
       "...            ...              ...          ...                     ...   \n",
       "122071        3121             3052         25.5      (51.8042, -1.2745)   \n",
       "122072        3121             3057         27.7      (51.8042, -1.2745)   \n",
       "122073        3121             3059         27.7      (51.8042, -1.2745)   \n",
       "122074        3121             3060         25.7      (51.8042, -1.2745)   \n",
       "122075        3121             3061         22.0      (51.8042, -1.2745)   \n",
       "\n",
       "            DESTINATION_COORDS  \n",
       "0       (51.995339, -0.736368)  \n",
       "1       (51.916046, -0.676874)  \n",
       "2        (52.034357, -0.77341)  \n",
       "3       (51.763638, -0.562498)  \n",
       "4       (51.742062, -0.490762)  \n",
       "...                        ...  \n",
       "122071  (51.578495, -0.497633)  \n",
       "122072  (51.556742, -0.398812)  \n",
       "122073  (51.569708, -0.437812)  \n",
       "122074  (51.580544, -0.517774)  \n",
       "122075  (51.609524, -0.607809)  \n",
       "\n",
       "[122076 rows x 5 columns]"
      ]
     },
     "execution_count": 19,
     "metadata": {},
     "output_type": "execute_result"
    }
   ],
   "source": [
    "network_df = flow_fare_loc_df[['ORIGIN_CODE','DESTINATION_CODE','FARE_POUNDS','ORIGIN_COORDS','DESTINATION_COORDS']].copy()\n",
    "network_df"
   ]
  },
  {
   "cell_type": "code",
   "execution_count": 22,
   "metadata": {},
   "outputs": [],
   "source": [
    "stations = {}\n",
    "routes = []\n",
    "for i in range(len(network_df)):\n",
    "    stations[network_df['ORIGIN_CODE'][i]]=network_df['ORIGIN_COORDS'][i]\n",
    "    stations[network_df['DESTINATION_CODE'][i]]=network_df['DESTINATION_COORDS'][i]\n",
    "    routes.append((network_df['ORIGIN_CODE'][i],network_df['DESTINATION_CODE'][i],network_df['FARE_POUNDS'][i]))"
   ]
  },
  {
   "cell_type": "code",
   "execution_count": 39,
   "metadata": {},
   "outputs": [],
   "source": [
    "# Forming graph\n",
    "G = nx.Graph()\n",
    "for i in range(len(routes)):\n",
    "    G.add_edge(stations[routes[i][0]],stations[routes[i][1]],weight=routes[i][2])\n",
    "pos = {value:value for key, value in stations.items()} # Creates nodes in graph"
   ]
  },
  {
   "cell_type": "code",
   "execution_count": 40,
   "metadata": {},
   "outputs": [
    {
     "data": {
      "image/png": "[encoded data removed]",
      "text/plain": [
       "<Figure size 640x480 with 1 Axes>"
      ]
     },
     "metadata": {},
     "output_type": "display_data"
    }
   ],
   "source": [
    "# Displaying graph\n",
    "fig, ax = plt.subplots()\n",
    "nx.draw(G, pos=pos, node_color='k', ax=ax)\n",
    "nx.draw(G, pos=pos, node_size=500, ax=ax) # draw nodes and edges\n",
    "nx.draw_networkx_labels(G, pos=pos) #draw node labels\n",
    "labels = nx.get_edge_attributes(G,'weight')\n",
    "nx.draw_networkx_edge_labels(G, pos, edge_labels=labels, ax=ax)\n",
    "plt.axis(\"on\")\n",
    "ax.set_xlim(40,60)\n",
    "ax.set_ylim(-5,5)\n",
    "plt.show()"
   ]
  }
 ],
 "metadata": {
  "kernelspec": {
   "display_name": "Python 3",
   "language": "python",
   "name": "python3"
  },
  "language_info": {
   "codemirror_mode": {
    "name": "ipython",
    "version": 3
   },
   "file_extension": ".py",
   "mimetype": "text/x-python",
   "name": "python",
   "nbconvert_exporter": "python",
   "pygments_lexer": "ipython3",
   "version": "3.11.6"
  },
  "orig_nbformat": 4
 },
 "nbformat": 4,
 "nbformat_minor": 2
}
